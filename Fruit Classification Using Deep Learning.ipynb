{
  "cells": [
    {
      "cell_type": "markdown",
      "id": "7f8934c5",
      "metadata": {
        "id": "7f8934c5"
      },
      "source": [
        "# CONVOLUTIONAL NEURAL NETWORK"
      ]
    },
    {
      "cell_type": "markdown",
      "id": "4e1c51bc",
      "metadata": {
        "id": "4e1c51bc"
      },
      "source": [
        "Importing the Libraries"
      ]
    },
    {
      "cell_type": "code",
      "execution_count": null,
      "id": "e0056642",
      "metadata": {
        "id": "e0056642"
      },
      "outputs": [],
      "source": [
        "import tensorflow as tf\n",
        "from keras.preprocessing.image import ImageDataGenerator"
      ]
    },
    {
      "cell_type": "markdown",
      "id": "2e547772",
      "metadata": {
        "id": "2e547772"
      },
      "source": [
        "## Part 1: Preprocessing the Dataset"
      ]
    },
    {
      "cell_type": "markdown",
      "id": "90ea5149",
      "metadata": {
        "id": "90ea5149"
      },
      "source": [
        "Preprocessing the Training Set"
      ]
    },
    {
      "cell_type": "code",
      "execution_count": null,
      "id": "e013671d",
      "metadata": {
        "id": "e013671d"
      },
      "outputs": [],
      "source": [
        "class_labels = ['Apple Braeburn', 'Apple Crimson Snow', 'Apple Golden 1', 'Apple Golden 2', 'Apple Golden 3',\n",
        "                'Apple Granny Smith', 'Apple Pink Lady', 'Apple Red 1', 'Apple Red 2', 'Apple Red 3', 'Apple Red Delicious',\n",
        "                'Apple Red Yellow 1', 'Apple Red Yellow 2', 'Apricot', 'Avocado', 'Avocado ripe', 'Banana', 'Banana Lady Finger',\n",
        "                'Banana Red', 'Beetroot', 'Blueberry', 'Cactus fruit', 'Cantaloupe 1', 'Cantaloupe 2', 'Carambula',\n",
        "                'Cauliflower', 'Cherry 1', 'Cherry 2', 'Cherry Rainier', 'Cherry Wax Black', 'Cherry Wax Red',\n",
        "                'Cherry Wax Yellow', 'Chestnut', 'Clementine', 'Cocos', 'Corn', 'Corn Husk', 'Cucumber Ripe', 'Cucumber Ripe 2',\n",
        "                'Dates', 'Eggplant', 'Fig', 'Ginger Root', 'Granadilla', 'Grape Blue', 'Grape Pink', 'Grape White',\n",
        "                'Grape White 2', 'Grape White 3', 'Grape White 4', 'Grapefruit Pink', 'Grapefruit White', 'Guava', 'Hazelnut',\n",
        "                'Huckleberry', 'Kaki', 'Kiwi', 'Kohlrabi', 'Kumquats', 'Lemon', 'Lemon Meyer', 'Limes', 'Lychee', 'Mandarine',\n",
        "                'Mango', 'Mango Red', 'Mangostan', 'Maracuja', 'Melon Piel de Sapo', 'Mulberry', 'Nectarine', 'Nectarine Flat',\n",
        "                'Nut Forest', 'Nut Pecan', 'Onion Red', 'Onion Red Peeled', 'Onion White', 'Orange', 'Papaya', 'Passion Fruit',\n",
        "                'Peach', 'Peach 2', 'Peach Flat', 'Pear', 'Pear 2', 'Pear Abate', 'Pear Forelle', 'Pear Kaiser', 'Pear Monster',\n",
        "                'Pear Red', 'Pear Stone', 'Pear Williams', 'Pepino', 'Pepper Green', 'Pepper Orange', 'Pepper Red',\n",
        "                'Pepper Yellow', 'Physalis', 'Physalis with Husk', 'Pineapple', 'Pineapple Mini', 'Pitahaya Red', 'Plum',\n",
        "                'Plum 2', 'Plum 3', 'Pomegranate', 'Pomelo Sweetie', 'Potato Red', 'Potato Red Washed', 'Potato Sweet',\n",
        "                'Potato White', 'Quince', 'Rambutan', 'Raspberry', 'Redcurrant', 'Salak', 'Strawberry', 'Strawberry Wedge',\n",
        "                'Tamarillo', 'Tangelo', 'Tomato 1', 'Tomato 2', 'Tomato 3', 'Tomato 4', 'Tomato Cherry Red', 'Tomato Heart',\n",
        "                'Tomato Maroon', 'Tomato Yellow', 'Tomato not Ripened', 'Walnut', 'Watermelon']"
      ]
    },
    {
      "cell_type": "code",
      "execution_count": null,
      "id": "771a2d0a",
      "metadata": {
        "id": "771a2d0a",
        "outputId": "351c4063-7134-4d5d-f247-0ffab4ad75aa"
      },
      "outputs": [
        {
          "name": "stdout",
          "output_type": "stream",
          "text": [
            "Found 67692 files belonging to 131 classes.\n"
          ]
        }
      ],
      "source": [
        "from google.colab import drive\n",
        "drive.mount('/content/drive/')\n",
        "%cd /content/drive/My Drive/Deep_Learning/fruits-360_dataset/fruits-360\n",
        "training_data = tf.keras.preprocessing.image_dataset_from_directory(\n",
        "    'fruits_360/Training',\n",
        "    labels=\"inferred\",\n",
        "    label_mode='categorical',\n",
        "    class_names=class_labels,\n",
        "    color_mode=\"rgb\",\n",
        "    batch_size=32,\n",
        "    image_size=(256, 256),\n",
        "    shuffle=True\n",
        ")"
      ]
    },
    {
      "cell_type": "markdown",
      "id": "fb2c1b63",
      "metadata": {
        "id": "fb2c1b63"
      },
      "source": [
        "Preprocessing the Testing Set"
      ]
    },
    {
      "cell_type": "code",
      "execution_count": null,
      "id": "b7a5b4ed",
      "metadata": {
        "id": "b7a5b4ed",
        "outputId": "c50bdb04-54ee-442a-ebe8-5904f6cd59c8"
      },
      "outputs": [
        {
          "name": "stdout",
          "output_type": "stream",
          "text": [
            "Found 22688 files belonging to 131 classes.\n"
          ]
        }
      ],
      "source": [
        "testing_data = tf.keras.preprocessing.image_dataset_from_directory(\n",
        "    'fruits_360/Test',\n",
        "    labels=\"inferred\",\n",
        "    label_mode='categorical',\n",
        "    class_names=class_labels,\n",
        "    color_mode=\"rgb\",\n",
        "    batch_size=32,\n",
        "    image_size=(256, 256),\n",
        "    shuffle=True\n",
        ")"
      ]
    },
    {
      "cell_type": "markdown",
      "id": "4949a801",
      "metadata": {
        "id": "4949a801"
      },
      "source": [
        "## Part 2: Building the CNN"
      ]
    },
    {
      "cell_type": "markdown",
      "id": "c4a6e87b",
      "metadata": {
        "id": "c4a6e87b"
      },
      "source": [
        "Initialising the CNN"
      ]
    },
    {
      "cell_type": "code",
      "execution_count": null,
      "id": "1a3f9185",
      "metadata": {
        "id": "1a3f9185"
      },
      "outputs": [],
      "source": [
        "cnn = tf.keras.models.Sequential()"
      ]
    },
    {
      "cell_type": "code",
      "execution_count": null,
      "id": "c32ac562",
      "metadata": {
        "id": "c32ac562"
      },
      "outputs": [],
      "source": [
        "# Step 1 - Convolution\n",
        "cnn.add(tf.keras.layers.Conv2D(filters=32, kernel_size=3, activation='relu', input_shape=[256,256,3]))"
      ]
    },
    {
      "cell_type": "code",
      "execution_count": null,
      "id": "84bf6ac5",
      "metadata": {
        "id": "84bf6ac5"
      },
      "outputs": [],
      "source": [
        "# Step 2 - Pooling\n",
        "cnn.add(tf.keras.layers.MaxPool2D(pool_size=2, strides=2))"
      ]
    },
    {
      "cell_type": "code",
      "execution_count": null,
      "id": "02e0a688",
      "metadata": {
        "id": "02e0a688"
      },
      "outputs": [],
      "source": [
        "# Adding a Second Convolutional Layer\n",
        "cnn.add(tf.keras.layers.Conv2D(filters=32, kernel_size=3, activation='relu'))\n",
        "cnn.add(tf.keras.layers.MaxPool2D(pool_size=2, strides=2))"
      ]
    },
    {
      "cell_type": "code",
      "execution_count": null,
      "id": "fe893d08",
      "metadata": {
        "id": "fe893d08"
      },
      "outputs": [],
      "source": [
        "# Step 3 - Flattening\n",
        "cnn.add(tf.keras.layers.Flatten())"
      ]
    },
    {
      "cell_type": "code",
      "execution_count": null,
      "id": "b0107ce7",
      "metadata": {
        "id": "b0107ce7"
      },
      "outputs": [],
      "source": [
        "# Step 4 - Full Connection\n",
        "cnn.add(tf.keras.layers.Dense(units=128, activation='relu'))"
      ]
    },
    {
      "cell_type": "code",
      "execution_count": null,
      "id": "1393f045",
      "metadata": {
        "id": "1393f045"
      },
      "outputs": [],
      "source": [
        "# Step 5 - Output Layer\n",
        "cnn.add(tf.keras.layers.Dense(units=131, activation='softmax'))"
      ]
    },
    {
      "cell_type": "markdown",
      "id": "c26b303f",
      "metadata": {
        "id": "c26b303f"
      },
      "source": [
        "## Part 3: Training the CNN"
      ]
    },
    {
      "cell_type": "code",
      "execution_count": null,
      "id": "1a83f06f",
      "metadata": {
        "id": "1a83f06f"
      },
      "outputs": [],
      "source": [
        "# Compiling the CNN\n",
        "cnn.compile(optimizer= 'adam', loss = 'categorical_crossentropy', metrics = ['accuracy'])"
      ]
    },
    {
      "cell_type": "markdown",
      "id": "61a02ed7",
      "metadata": {
        "id": "61a02ed7"
      },
      "source": [
        "Training the CNN on the Training Set and Evaluating it on the Test Set"
      ]
    },
    {
      "cell_type": "code",
      "execution_count": null,
      "id": "b2023960",
      "metadata": {
        "scrolled": false,
        "id": "b2023960",
        "outputId": "d747b36a-dcc9-4bda-854e-1205dadf3ac4"
      },
      "outputs": [
        {
          "name": "stdout",
          "output_type": "stream",
          "text": [
            "Epoch 1/4\n",
            "2116/2116 [==============================] - 8482s 4s/step - loss: 4.1480 - accuracy: 0.8256 - val_loss: 1.4861 - val_accuracy: 0.7838\n",
            "Epoch 2/4\n",
            "2116/2116 [==============================] - 6176s 3s/step - loss: 0.6750 - accuracy: 0.8593 - val_loss: 3.1759 - val_accuracy: 0.7038\n",
            "Epoch 3/4\n",
            "2116/2116 [==============================] - 5166s 2s/step - loss: 0.3625 - accuracy: 0.9149 - val_loss: 5.1771 - val_accuracy: 0.6088\n",
            "Epoch 4/4\n",
            "2116/2116 [==============================] - 5737s 3s/step - loss: 0.2919 - accuracy: 0.9459 - val_loss: 4.6571 - val_accuracy: 0.6634\n"
          ]
        },
        {
          "data": {
            "text/plain": [
              "<tensorflow.python.keras.callbacks.History at 0x2248d5bc040>"
            ]
          },
          "execution_count": 14,
          "metadata": {},
          "output_type": "execute_result"
        }
      ],
      "source": [
        "cnn.fit( x= training_data, validation_data= testing_data, epochs= 4)"
      ]
    },
    {
      "cell_type": "code",
      "execution_count": null,
      "id": "755e43b6",
      "metadata": {
        "id": "755e43b6"
      },
      "outputs": [],
      "source": [
        "model_json = cnn.to_json()\n",
        "with open(\"model_arch.json\", \"w\") as json_file:\n",
        "    json_file.write(model_json)\n",
        "cnn.save_weights(\"model_weights.h5\")"
      ]
    },
    {
      "cell_type": "markdown",
      "id": "816fcbfc",
      "metadata": {
        "id": "816fcbfc"
      },
      "source": [
        "## Part 3: Making a Single Prediction"
      ]
    },
    {
      "cell_type": "code",
      "execution_count": null,
      "id": "ba2f717e",
      "metadata": {
        "id": "ba2f717e",
        "outputId": "795baf78-2304-4c40-833a-7af4897d5f7d"
      },
      "outputs": [
        {
          "name": "stdout",
          "output_type": "stream",
          "text": [
            "Apple Braeburn\n"
          ]
        }
      ],
      "source": [
        "import numpy as np\n",
        "from keras.preprocessing import image\n",
        "test_image = image.load_img('fruits_360/realtime_images/image1.jpeg', target_size = (256,256))\n",
        "\n",
        "test_image = image.img_to_array(test_image)\n",
        "test_image = np.expand_dims(test_image, axis = 0)\n",
        "result = cnn.predict(test_image)\n",
        "\n",
        "for i in range(0,132):\n",
        "    if (result[0][0] == i):       # == 1\n",
        "        prediction = class_labels[i]\n",
        "\n",
        "\n",
        "\n",
        "print(prediction)"
      ]
    },
    {
      "cell_type": "markdown",
      "metadata": {
        "id": "_vXu-d6HAiRk"
      },
      "source": [
        "# RECURRENT NEURAL NETWORK"
      ],
      "id": "_vXu-d6HAiRk"
    },
    {
      "cell_type": "markdown",
      "metadata": {
        "id": "S7AfWo-5BXwn"
      },
      "source": [
        "Importing the Libraries"
      ],
      "id": "S7AfWo-5BXwn"
    },
    {
      "cell_type": "code",
      "source": [
        "import keras\n",
        "from keras import layers\n",
        "import tensorflow as tf"
      ],
      "metadata": {
        "id": "_OF54XBmBQwD"
      },
      "id": "_OF54XBmBQwD",
      "execution_count": null,
      "outputs": []
    },
    {
      "cell_type": "code",
      "source": [
        "batch_size = 32\n",
        "# Images are of size in batches of 32, size 100, 100.\n",
        "input_dim = 10000\n",
        "\n",
        "units = 16\n",
        "output_size = 131  # labels are from 0 to 131\n",
        "\n",
        "# Build the RNN model\n",
        "def build_model(allow_cudnn_kernel=True):\n",
        "    # CuDNN is only available at the layer level, and not at the cell level.\n",
        "    # This means `LSTM(units)` will use the CuDNN kernel,\n",
        "    # while RNN(LSTMCell(units)) will run on non-CuDNN kernel.\n",
        "    if allow_cudnn_kernel:\n",
        "        # The LSTM layer with default options uses CuDNN.\n",
        "        lstm_layer = keras.layers.LSTM(units, input_shape=(None, input_dim))\n",
        "    else:\n",
        "        # Wrapping a LSTMCell in a RNN layer will not use CuDNN.\n",
        "        lstm_layer = keras.layers.RNN(\n",
        "            keras.layers.LSTMCell(units), input_shape=(None, input_dim)\n",
        "        )\n",
        "    model = keras.models.Sequential(\n",
        "        [\n",
        "            layers.Flatten(),\n",
        "            layers.Embedding(input_dim=10000, output_dim=131),\n",
        "            lstm_layer,\n",
        "            #keras.layers.BatchNormalization(),\n",
        "            #Output Layer\n",
        "            keras.layers.Dense(output_size, activation='softmax'),\n",
        "\n",
        "        ]\n",
        "    )\n",
        "    return model"
      ],
      "metadata": {
        "id": "nlVEX8sOIL6y"
      },
      "id": "nlVEX8sOIL6y",
      "execution_count": null,
      "outputs": []
    },
    {
      "cell_type": "code",
      "source": [
        "model = build_model(allow_cudnn_kernel=True)\n",
        "\n",
        "model.compile(\n",
        "    loss=\"categorical_crossentropy\",\n",
        "    optimizer=optimizers.RMSprop(lr=0.0001, decay=1e-6),\n",
        "    metrics=[\"accuracy\"],\n",
        ")\n",
        "\n",
        "STEP_SIZE_TRAIN=train.n//train.batch_size\n",
        "STEP_SIZE_VALID=valid_generator.n//valid_generator.batch_size\n",
        "STEP_SIZE_TEST=test.n//test.batch_size\n",
        "\n",
        "model.fit_generator(generator=train,\n",
        "                    steps_per_epoch=STEP_SIZE_TRAIN,\n",
        "                    validation_data=valid_generator,\n",
        "                    validation_steps=STEP_SIZE_VALID,\n",
        "                    epochs = 5, verbose = 1)"
      ],
      "metadata": {
        "id": "rhvstmMoJdj3"
      },
      "id": "rhvstmMoJdj3",
      "execution_count": null,
      "outputs": []
    },
    {
      "cell_type": "code",
      "source": [
        "#Now we run a prediction method on the test dataset.\n",
        "test.reset()\n",
        "pred=model.predict_generator(test,\n",
        "steps=STEP_SIZE_TEST,\n",
        "verbose=1)\n",
        "\n",
        "predicted_class_indices=np.argmax(pred,axis=-1)\n",
        "#predicted_class_indices=(model.predict(x) > 0.5).astype(\"int32\") #binary class identification.\n",
        "y_true = test.classes\n",
        "\n",
        "print(classification_report(y_true,\n",
        "                            predicted_class_indices,\n",
        "                            target_names=train.class_indices))"
      ],
      "metadata": {
        "id": "rv4mcnPy-g80"
      },
      "id": "rv4mcnPy-g80",
      "execution_count": null,
      "outputs": []
    },
    {
      "cell_type": "code",
      "source": [
        "accuracy                           0.01     22688\n",
        "          macro avg       0.00      0.01      0.00     22688\n",
        "       weighted avg       0.00      0.01      0.00     22688\n"
      ],
      "metadata": {
        "id": "aUrlpsdGP0qV"
      },
      "id": "aUrlpsdGP0qV",
      "execution_count": null,
      "outputs": []
    }
  ],
  "metadata": {
    "kernelspec": {
      "display_name": "Python 3",
      "language": "python",
      "name": "python3"
    },
    "language_info": {
      "codemirror_mode": {
        "name": "ipython",
        "version": 3
      },
      "file_extension": ".py",
      "mimetype": "text/x-python",
      "name": "python",
      "nbconvert_exporter": "python",
      "pygments_lexer": "ipython3",
      "version": "3.8.8"
    },
    "colab": {
      "provenance": []
    }
  },
  "nbformat": 4,
  "nbformat_minor": 5
}